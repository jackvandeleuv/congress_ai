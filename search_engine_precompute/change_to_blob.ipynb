{
 "cells": [
  {
   "cell_type": "code",
   "execution_count": 1,
   "metadata": {},
   "outputs": [
    {
     "data": {
      "text/plain": [
       "'\\nConvert embeddings (previously strings) to blob / binary numpy arrays\\n'"
      ]
     },
     "execution_count": 1,
     "metadata": {},
     "output_type": "execute_result"
    }
   ],
   "source": [
    "\"\"\"\n",
    "Convert embeddings (previously strings) to blob / binary numpy arrays\n",
    "\"\"\"\n",
    "\n",
    "# import sqlite3\n",
    "# import numpy as np\n",
    "# import pickle\n",
    "\n",
    "# conn = sqlite3.Connection('./congress-data_v2.3.db')\n",
    "\n",
    "# cur = conn.cursor()\n",
    "# cur.execute(\"ALTER TABLE bert_embeddings ADD COLUMN embedding_blob BLOB\")\n",
    "# conn.commit()\n",
    "\n",
    "# conn = sqlite3.Connection('./congress-data_v2.3.db')\n",
    "# cur = conn.cursor()\n",
    "\n",
    "# chunk_size = 1000  \n",
    "\n",
    "# cur.execute('select max(id) from bert_embeddings')\n",
    "# max_id = cur.fetchone()[0]\n",
    "\n",
    "# start = 0\n",
    "# end = chunk_size\n",
    "# while start + chunk_size < max_id:\n",
    "#     print('Processing:', start, 'to', end)\n",
    "#     cur.execute('select id, embedding from bert_embeddings where id between ? and ?', (start, start + chunk_size))\n",
    "#     rows = cur.fetchall()\n",
    "#     conn.close()\n",
    "#     conn = sqlite3.Connection('./congress-data_v2.3.db')\n",
    "#     cur = conn.cursor()\n",
    "#     for rowid, text_data in rows:\n",
    "#         text_data = text_data.strip('[]')\n",
    "#         vector = np.fromstring(text_data, sep=',', dtype=np.float32)\n",
    "#         serialized_vector = pickle.dumps(vector) \n",
    "#         cur.execute(\"UPDATE bert_embeddings SET embedding_blob = ? WHERE rowid = ?\", (serialized_vector, rowid))\n",
    "#         conn.commit()\n",
    "#     start += chunk_size\n",
    "#     end += chunk_size\n"
   ]
  },
  {
   "cell_type": "code",
   "execution_count": 2,
   "metadata": {},
   "outputs": [
    {
     "data": {
      "text/plain": [
       "'\\nSeveral hundred rows were missing blob embeddings\\n'"
      ]
     },
     "execution_count": 2,
     "metadata": {},
     "output_type": "execute_result"
    }
   ],
   "source": [
    "\"\"\"\n",
    "Several hundred rows were missing blob embeddings\n",
    "\"\"\"\n",
    "\n",
    "# import sqlite3\n",
    "# import numpy as np \n",
    "# import pickle\n",
    "\n",
    "# conn = sqlite3.Connection('./congress-data_v2.4.db')\n",
    "# cur = conn.cursor()\n",
    "\n",
    "# cur.execute('select id from bert_embeddings where embedding_blob is null')\n",
    "# ids = cur.fetchall()\n",
    "\n",
    "# cur.execute('select id, embedding from bert_embeddings where id in (' + ' '.join(['?,' for _ in range(len(ids))])[:-1] + ')', tuple([x[0] for x in ids]))\n",
    "# rows = cur.fetchall()\n",
    "# conn.close()\n",
    "# conn = sqlite3.Connection('./congress-data_v2.4.db')\n",
    "# cur = conn.cursor()\n",
    "# for rowid, text_data in rows:\n",
    "#     text_data = text_data.strip('[]')\n",
    "#     vector = np.fromstring(text_data, sep=',', dtype=np.float32)\n",
    "#     serialized_vector = pickle.dumps(vector) \n",
    "#     cur.execute(\"UPDATE bert_embeddings SET embedding_blob = ? WHERE rowid = ?\", (serialized_vector, rowid))\n",
    "#     conn.commit()"
   ]
  },
  {
   "cell_type": "code",
   "execution_count": 3,
   "metadata": {},
   "outputs": [
    {
     "data": {
      "text/plain": [
       "'\\nRemove the old string-encoded embeddings.\\n'"
      ]
     },
     "execution_count": 3,
     "metadata": {},
     "output_type": "execute_result"
    }
   ],
   "source": [
    "\"\"\"\n",
    "Remove the old string-encoded embeddings.\n",
    "\"\"\"\n",
    "\n",
    "# import sqlite3\n",
    "\n",
    "# conn = sqlite3.Connection('./congress-data_v2.4.db')\n",
    "# cur = conn.cursor()\n",
    "\n",
    "# cur.execute(\"update bert_embeddings set embedding = ''\")\n",
    "# conn.commit()"
   ]
  },
  {
   "cell_type": "code",
   "execution_count": 4,
   "metadata": {},
   "outputs": [],
   "source": [
    "# import sqlite3\n",
    "\n",
    "# conn = sqlite3.Connection('./congress-data_v2.4.db')\n",
    "# cur = conn.cursor()\n",
    "\n",
    "# cur.execute(\"vacuum\")\n",
    "# conn.commit()"
   ]
  }
 ],
 "metadata": {
  "kernelspec": {
   "display_name": "base",
   "language": "python",
   "name": "python3"
  },
  "language_info": {
   "codemirror_mode": {
    "name": "ipython",
    "version": 3
   },
   "file_extension": ".py",
   "mimetype": "text/x-python",
   "name": "python",
   "nbconvert_exporter": "python",
   "pygments_lexer": "ipython3",
   "version": "3.11.4"
  }
 },
 "nbformat": 4,
 "nbformat_minor": 2
}
